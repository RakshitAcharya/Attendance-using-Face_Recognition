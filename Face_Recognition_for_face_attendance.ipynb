{
  "nbformat": 4,
  "nbformat_minor": 0,
  "metadata": {
    "colab": {
      "name": "Face Recognition for face attendance.ipynb",
      "provenance": [],
      "collapsed_sections": []
    },
    "kernelspec": {
      "name": "python3",
      "display_name": "Python 3"
    },
    "language_info": {
      "name": "python"
    },
    "accelerator": "GPU"
  },
  "cells": [
    {
      "cell_type": "markdown",
      "metadata": {
        "id": "UWXZFMwpA5iK"
      },
      "source": [
        "## IMPORTS"
      ]
    },
    {
      "cell_type": "code",
      "metadata": {
        "id": "egO4Cfe10uOv"
      },
      "source": [
        "from keras.layers import Input, Lambda, Dense, Flatten\n",
        "from keras.models import Model\n",
        "from keras.applications.vgg16 import VGG16\n",
        "from keras.applications.vgg16 import preprocess_input\n",
        "from keras.preprocessing import image\n",
        "from keras.preprocessing.image import ImageDataGenerator\n",
        "from keras.models import Sequential\n",
        "import numpy as np\n",
        "from glob import glob\n",
        "import matplotlib.pyplot as plt"
      ],
      "execution_count": 1,
      "outputs": []
    },
    {
      "cell_type": "code",
      "metadata": {
        "id": "1ptKKZUo0yn4"
      },
      "source": [
        "IMAGE_SIZE = [600, 600, 3]\n",
        "\n",
        "train_path = \"/content/drive/MyDrive/FACEREC/Images/Train\"\n",
        "valid_path = '/content/drive/MyDrive/FACEREC/Images/Test'"
      ],
      "execution_count": 2,
      "outputs": []
    },
    {
      "cell_type": "markdown",
      "metadata": {
        "id": "wgYY320dA-zj"
      },
      "source": [
        "## PRE TRAINED MODEL"
      ]
    },
    {
      "cell_type": "code",
      "metadata": {
        "id": "Vh-9saFn1U2Q",
        "colab": {
          "base_uri": "https://localhost:8080/"
        },
        "outputId": "8d74e2e3-61f4-4f5b-f41a-3567f6ab2260"
      },
      "source": [
        "vgg = VGG16(input_shape=IMAGE_SIZE, weights='imagenet', include_top=False)"
      ],
      "execution_count": 3,
      "outputs": [
        {
          "output_type": "stream",
          "name": "stdout",
          "text": [
            "Downloading data from https://storage.googleapis.com/tensorflow/keras-applications/vgg16/vgg16_weights_tf_dim_ordering_tf_kernels_notop.h5\n",
            "58892288/58889256 [==============================] - 1s 0us/step\n",
            "58900480/58889256 [==============================] - 1s 0us/step\n"
          ]
        }
      ]
    },
    {
      "cell_type": "code",
      "metadata": {
        "id": "_rj19U1X1V0N"
      },
      "source": [
        "for layer in vgg.layers:\n",
        "  layer.trainable=False"
      ],
      "execution_count": 4,
      "outputs": []
    },
    {
      "cell_type": "code",
      "metadata": {
        "colab": {
          "base_uri": "https://localhost:8080/"
        },
        "id": "X6G7bvWr1X3p",
        "outputId": "939a11eb-9dda-4c71-dcd3-602778eba18d"
      },
      "source": [
        "folders = glob('/content/drive/MyDrive/FACEREC/Images/Train/*')\n",
        "len(folders)"
      ],
      "execution_count": 5,
      "outputs": [
        {
          "output_type": "execute_result",
          "data": {
            "text/plain": [
              "5"
            ]
          },
          "metadata": {},
          "execution_count": 5
        }
      ]
    },
    {
      "cell_type": "code",
      "metadata": {
        "id": "NtCX1ZiW1f-n"
      },
      "source": [
        "x = Flatten()(vgg.output)\n",
        "prediction = Dense(len(folders), activation='softmax')(x)\n",
        "\n",
        "model = Model(inputs=vgg.input, outputs=prediction)\n"
      ],
      "execution_count": 6,
      "outputs": []
    },
    {
      "cell_type": "code",
      "metadata": {
        "colab": {
          "base_uri": "https://localhost:8080/"
        },
        "id": "3p0iczLY1lp4",
        "outputId": "bb38c3c3-0a0f-49b5-ac6b-45fa40d7bd95"
      },
      "source": [
        "model.summary()"
      ],
      "execution_count": 7,
      "outputs": [
        {
          "output_type": "stream",
          "name": "stdout",
          "text": [
            "Model: \"model\"\n",
            "_________________________________________________________________\n",
            "Layer (type)                 Output Shape              Param #   \n",
            "=================================================================\n",
            "input_1 (InputLayer)         [(None, 600, 600, 3)]     0         \n",
            "_________________________________________________________________\n",
            "block1_conv1 (Conv2D)        (None, 600, 600, 64)      1792      \n",
            "_________________________________________________________________\n",
            "block1_conv2 (Conv2D)        (None, 600, 600, 64)      36928     \n",
            "_________________________________________________________________\n",
            "block1_pool (MaxPooling2D)   (None, 300, 300, 64)      0         \n",
            "_________________________________________________________________\n",
            "block2_conv1 (Conv2D)        (None, 300, 300, 128)     73856     \n",
            "_________________________________________________________________\n",
            "block2_conv2 (Conv2D)        (None, 300, 300, 128)     147584    \n",
            "_________________________________________________________________\n",
            "block2_pool (MaxPooling2D)   (None, 150, 150, 128)     0         \n",
            "_________________________________________________________________\n",
            "block3_conv1 (Conv2D)        (None, 150, 150, 256)     295168    \n",
            "_________________________________________________________________\n",
            "block3_conv2 (Conv2D)        (None, 150, 150, 256)     590080    \n",
            "_________________________________________________________________\n",
            "block3_conv3 (Conv2D)        (None, 150, 150, 256)     590080    \n",
            "_________________________________________________________________\n",
            "block3_pool (MaxPooling2D)   (None, 75, 75, 256)       0         \n",
            "_________________________________________________________________\n",
            "block4_conv1 (Conv2D)        (None, 75, 75, 512)       1180160   \n",
            "_________________________________________________________________\n",
            "block4_conv2 (Conv2D)        (None, 75, 75, 512)       2359808   \n",
            "_________________________________________________________________\n",
            "block4_conv3 (Conv2D)        (None, 75, 75, 512)       2359808   \n",
            "_________________________________________________________________\n",
            "block4_pool (MaxPooling2D)   (None, 37, 37, 512)       0         \n",
            "_________________________________________________________________\n",
            "block5_conv1 (Conv2D)        (None, 37, 37, 512)       2359808   \n",
            "_________________________________________________________________\n",
            "block5_conv2 (Conv2D)        (None, 37, 37, 512)       2359808   \n",
            "_________________________________________________________________\n",
            "block5_conv3 (Conv2D)        (None, 37, 37, 512)       2359808   \n",
            "_________________________________________________________________\n",
            "block5_pool (MaxPooling2D)   (None, 18, 18, 512)       0         \n",
            "_________________________________________________________________\n",
            "flatten (Flatten)            (None, 165888)            0         \n",
            "_________________________________________________________________\n",
            "dense (Dense)                (None, 5)                 829445    \n",
            "=================================================================\n",
            "Total params: 15,544,133\n",
            "Trainable params: 829,445\n",
            "Non-trainable params: 14,714,688\n",
            "_________________________________________________________________\n"
          ]
        }
      ]
    },
    {
      "cell_type": "markdown",
      "metadata": {
        "id": "okIukZw3BEms"
      },
      "source": [
        "## Model Compilation"
      ]
    },
    {
      "cell_type": "code",
      "metadata": {
        "id": "ra8iqezl1p9H"
      },
      "source": [
        "model.compile(\n",
        "  loss='categorical_crossentropy',\n",
        "  optimizer='adam',\n",
        "  metrics=['accuracy']\n",
        ")"
      ],
      "execution_count": 8,
      "outputs": []
    },
    {
      "cell_type": "markdown",
      "metadata": {
        "id": "GAqAf-ueBIq4"
      },
      "source": [
        "## Image Data Generator"
      ]
    },
    {
      "cell_type": "code",
      "metadata": {
        "id": "M_4Z8ZTg1ui1"
      },
      "source": [
        "train_datagen = ImageDataGenerator(rescale = 1./255.,\n",
        "                                   rotation_range = 40,\n",
        "                                   shear_range = 0.2,\n",
        "                                   zoom_range = 0.2,\n",
        "                                   horizontal_flip = True)\n",
        "test_datagen= ImageDataGenerator(rescale=1/255)"
      ],
      "execution_count": 9,
      "outputs": []
    },
    {
      "cell_type": "code",
      "metadata": {
        "colab": {
          "base_uri": "https://localhost:8080/"
        },
        "id": "uLJ96FT819lW",
        "outputId": "9ea6ef7d-1606-498b-e86a-4a33557a9fb9"
      },
      "source": [
        "training_set = train_datagen.flow_from_directory(train_path,\n",
        "                                                 target_size = (600, 600),\n",
        "                                                 batch_size = 4,\n",
        "                                                 class_mode = 'categorical')\n",
        "testing_set = train_datagen.flow_from_directory(valid_path,\n",
        "                                                target_size = (600, 600),\n",
        "                                                 batch_size = 4,\n",
        "                                                 class_mode = 'categorical')"
      ],
      "execution_count": 10,
      "outputs": [
        {
          "output_type": "stream",
          "name": "stdout",
          "text": [
            "Found 772 images belonging to 5 classes.\n",
            "Found 250 images belonging to 5 classes.\n"
          ]
        }
      ]
    },
    {
      "cell_type": "markdown",
      "metadata": {
        "id": "BbIrLfH7BMmc"
      },
      "source": [
        "## Model Fit"
      ]
    },
    {
      "cell_type": "code",
      "metadata": {
        "colab": {
          "base_uri": "https://localhost:8080/"
        },
        "id": "oTGiOmQQ2D7A",
        "outputId": "90325296-bbf2-49bd-a9ab-a644d2745162"
      },
      "source": [
        "history = model.fit(\n",
        "  training_set,\n",
        "  validation_data=testing_set,\n",
        "  epochs=20,\n",
        ")"
      ],
      "execution_count": 11,
      "outputs": [
        {
          "output_type": "stream",
          "name": "stdout",
          "text": [
            "Epoch 1/20\n",
            "193/193 [==============================] - 665s 3s/step - loss: 2.8874 - accuracy: 0.7163 - val_loss: 1.3444 - val_accuracy: 0.8080\n",
            "Epoch 2/20\n",
            "193/193 [==============================] - 162s 837ms/step - loss: 0.8786 - accuracy: 0.8769 - val_loss: 1.3921 - val_accuracy: 0.7800\n",
            "Epoch 3/20\n",
            "193/193 [==============================] - 161s 836ms/step - loss: 0.4821 - accuracy: 0.9301 - val_loss: 2.0635 - val_accuracy: 0.7840\n",
            "Epoch 4/20\n",
            "193/193 [==============================] - 161s 835ms/step - loss: 1.0230 - accuracy: 0.9054 - val_loss: 3.8218 - val_accuracy: 0.7120\n",
            "Epoch 5/20\n",
            "193/193 [==============================] - 161s 834ms/step - loss: 0.3257 - accuracy: 0.9573 - val_loss: 1.7484 - val_accuracy: 0.8600\n",
            "Epoch 6/20\n",
            "193/193 [==============================] - 161s 836ms/step - loss: 0.5036 - accuracy: 0.9430 - val_loss: 1.7552 - val_accuracy: 0.8640\n",
            "Epoch 7/20\n",
            "193/193 [==============================] - 162s 837ms/step - loss: 0.2922 - accuracy: 0.9598 - val_loss: 5.6039 - val_accuracy: 0.6840\n",
            "Epoch 8/20\n",
            "193/193 [==============================] - 161s 835ms/step - loss: 0.4369 - accuracy: 0.9456 - val_loss: 2.5916 - val_accuracy: 0.8080\n",
            "Epoch 9/20\n",
            "193/193 [==============================] - 161s 833ms/step - loss: 0.2733 - accuracy: 0.9676 - val_loss: 1.6830 - val_accuracy: 0.8200\n",
            "Epoch 10/20\n",
            "193/193 [==============================] - 162s 837ms/step - loss: 0.4518 - accuracy: 0.9611 - val_loss: 1.7573 - val_accuracy: 0.8200\n",
            "Epoch 11/20\n",
            "193/193 [==============================] - 162s 837ms/step - loss: 0.3931 - accuracy: 0.9598 - val_loss: 0.9205 - val_accuracy: 0.9120\n",
            "Epoch 12/20\n",
            "193/193 [==============================] - 161s 836ms/step - loss: 0.3162 - accuracy: 0.9689 - val_loss: 0.6834 - val_accuracy: 0.9080\n",
            "Epoch 13/20\n",
            "193/193 [==============================] - 161s 833ms/step - loss: 0.7412 - accuracy: 0.9404 - val_loss: 2.0616 - val_accuracy: 0.8560\n",
            "Epoch 14/20\n",
            "193/193 [==============================] - 161s 835ms/step - loss: 1.1516 - accuracy: 0.9378 - val_loss: 0.6384 - val_accuracy: 0.9120\n",
            "Epoch 15/20\n",
            "193/193 [==============================] - 161s 836ms/step - loss: 0.2852 - accuracy: 0.9806 - val_loss: 5.5704 - val_accuracy: 0.7320\n",
            "Epoch 16/20\n",
            "193/193 [==============================] - 161s 836ms/step - loss: 0.0746 - accuracy: 0.9870 - val_loss: 1.8052 - val_accuracy: 0.8520\n",
            "Epoch 17/20\n",
            "193/193 [==============================] - 161s 834ms/step - loss: 0.2192 - accuracy: 0.9845 - val_loss: 5.2059 - val_accuracy: 0.7240\n",
            "Epoch 18/20\n",
            "193/193 [==============================] - 161s 835ms/step - loss: 0.0821 - accuracy: 0.9948 - val_loss: 0.9732 - val_accuracy: 0.9000\n",
            "Epoch 19/20\n",
            "193/193 [==============================] - 162s 836ms/step - loss: 0.8225 - accuracy: 0.9547 - val_loss: 8.2661 - val_accuracy: 0.7120\n",
            "Epoch 20/20\n",
            "193/193 [==============================] - 161s 836ms/step - loss: 0.1029 - accuracy: 0.9858 - val_loss: 1.4060 - val_accuracy: 0.8640\n"
          ]
        }
      ]
    },
    {
      "cell_type": "markdown",
      "metadata": {
        "id": "BglIkATiBURd"
      },
      "source": [
        "## Model Evaluation"
      ]
    },
    {
      "cell_type": "code",
      "metadata": {
        "id": "0-FOTXLN2Vaa",
        "colab": {
          "base_uri": "https://localhost:8080/",
          "height": 281
        },
        "outputId": "92113ff2-d6f0-417f-b011-7c93f482c918"
      },
      "source": [
        "import matplotlib.pyplot as plt\n",
        "\n",
        "acc=history.history[\"accuracy\"]\n",
        "val_acc=history.history[\"val_accuracy\"]\n",
        "epochs=range(len(acc))\n",
        "plt.xticks(range(0,20))\n",
        "plt.plot(epochs,acc,label=\"accuracy\")\n",
        "plt.plot(epochs,val_acc,label=\"val_accuracy\")\n",
        "plt.title(\"ACCURACY\")\n",
        "plt.legend();"
      ],
      "execution_count": 15,
      "outputs": [
        {
          "output_type": "display_data",
          "data": {
            "image/png": "[encoded data removed]",
            "text/plain": [
              "<Figure size 432x288 with 1 Axes>"
            ]
          },
          "metadata": {
            "needs_background": "light"
          }
        }
      ]
    },
    {
      "cell_type": "code",
      "metadata": {
        "colab": {
          "base_uri": "https://localhost:8080/",
          "height": 281
        },
        "id": "275aZHOs_zkh",
        "outputId": "78408609-8660-4d78-9752-decb4886f69d"
      },
      "source": [
        "loss=history.history[\"loss\"]\n",
        "val_loss=history.history[\"val_loss\"]\n",
        "epochs=range(len(acc))\n",
        "plt.xticks(range(0,20))\n",
        "plt.plot(epochs,loss,label=\"loss\")\n",
        "plt.plot(epochs,val_loss,label=\"val_loss\")\n",
        "plt.title(\"LOSS\")\n",
        "plt.legend();"
      ],
      "execution_count": 16,
      "outputs": [
        {
          "output_type": "display_data",
          "data": {
            "image/png": "[encoded data removed]",
            "text/plain": [
              "<Figure size 432x288 with 1 Axes>"
            ]
          },
          "metadata": {
            "needs_background": "light"
          }
        }
      ]
    },
    {
      "cell_type": "code",
      "metadata": {
        "id": "L0SM-8F4ALLX"
      },
      "source": [
        "from keras.models import load_model\n",
        "\n",
        "model.save('/content/drive/MyDrive/FACEREC/model.h5')"
      ],
      "execution_count": 17,
      "outputs": []
    },
    {
      "cell_type": "code",
      "metadata": {
        "id": "zZFs5PDKA1Jf"
      },
      "source": [
        ""
      ],
      "execution_count": null,
      "outputs": []
    }
  ]
}